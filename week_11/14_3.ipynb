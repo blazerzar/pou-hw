{
 "cells": [
  {
   "cell_type": "code",
   "execution_count": 6,
   "metadata": {
    "vscode": {
     "languageId": "r"
    }
   },
   "outputs": [],
   "source": [
    "set.seed(1)\n",
    "\n",
    "alpha <- 0.05\n",
    "\n",
    "x <- c(1.26, -0.33, 1.33, 1.27, 0.41, -1.54, -0.93, -0.29, -0.01, 2.40)\n",
    "y <- c(2.64, 0.33, 0.48, 0.06, -0.88, -2.14, -2.21, 0.95, 0.83, 1.45)\n"
   ]
  },
  {
   "cell_type": "code",
   "execution_count": 7,
   "metadata": {
    "vscode": {
     "languageId": "r"
    }
   },
   "outputs": [
    {
     "data": {
      "text/html": [
       "0.69912471839874"
      ],
      "text/latex": [
       "0.69912471839874"
      ],
      "text/markdown": [
       "0.69912471839874"
      ],
      "text/plain": [
       "[1] 0.6991247"
      ]
     },
     "metadata": {},
     "output_type": "display_data"
    }
   ],
   "source": [
    "# a) Pearson correlation\n",
    "pearson <- cor(x, y)\n",
    "pearson\n"
   ]
  },
  {
   "cell_type": "code",
   "execution_count": 8,
   "metadata": {
    "vscode": {
     "languageId": "r"
    }
   },
   "outputs": [
    {
     "data": {
      "text/plain": [
       "\n",
       "\tPearson's product-moment correlation\n",
       "\n",
       "data:  x and y\n",
       "t = 2.7656, df = 8, p-value = 0.02446\n",
       "alternative hypothesis: true correlation is not equal to 0\n",
       "95 percent confidence interval:\n",
       " 0.1241458 0.9226238\n",
       "sample estimates:\n",
       "      cor \n",
       "0.6991247 \n"
      ]
     },
     "metadata": {},
     "output_type": "display_data"
    }
   ],
   "source": [
    "# b) 95% confidence interval\n",
    "cor.test(x, y, conf.level = 1 - alpha)\n"
   ]
  },
  {
   "cell_type": "code",
   "execution_count": 16,
   "metadata": {
    "vscode": {
     "languageId": "r"
    }
   },
   "outputs": [
    {
     "data": {
      "text/html": [
       "<style>\n",
       ".dl-inline {width: auto; margin:0; padding: 0}\n",
       ".dl-inline>dt, .dl-inline>dd {float: none; width: auto; display: inline-block}\n",
       ".dl-inline>dt::after {content: \":\\0020\"; padding-right: .5ex}\n",
       ".dl-inline>dt:not(:first-of-type) {padding-left: .5ex}\n",
       "</style><dl class=dl-inline><dt>2.5%</dt><dd>0.216939420272197</dd><dt>97.5%</dt><dd>0.891433623761876</dd></dl>\n"
      ],
      "text/latex": [
       "\\begin{description*}\n",
       "\\item[2.5\\textbackslash{}\\%] 0.216939420272197\n",
       "\\item[97.5\\textbackslash{}\\%] 0.891433623761876\n",
       "\\end{description*}\n"
      ],
      "text/markdown": [
       "2.5%\n",
       ":   0.21693942027219797.5%\n",
       ":   0.891433623761876\n",
       "\n"
      ],
      "text/plain": [
       "     2.5%     97.5% \n",
       "0.2169394 0.8914336 "
      ]
     },
     "metadata": {},
     "output_type": "display_data"
    }
   ],
   "source": [
    "# c) Bootstrap confidence interval\n",
    "m <- 1000\n",
    "pearson_boot <- vector(mode = \"numeric\", length = m)\n",
    "\n",
    "for (i in 1:m) {\n",
    "  samp <- sample(seq_along(x), length(x), replace = TRUE)\n",
    "  pearson_boot[i] <- cor(x[samp], y[samp])\n",
    "}\n",
    "\n",
    "quantile(pearson_boot, c(alpha / 2, 1 - alpha / 2))\n"
   ]
  },
  {
   "cell_type": "code",
   "execution_count": 18,
   "metadata": {
    "vscode": {
     "languageId": "r"
    }
   },
   "outputs": [
    {
     "data": {
      "text/html": [
       "<style>\n",
       ".dl-inline {width: auto; margin:0; padding: 0}\n",
       ".dl-inline>dt, .dl-inline>dd {float: none; width: auto; display: inline-block}\n",
       ".dl-inline>dt::after {content: \":\\0020\"; padding-right: .5ex}\n",
       ".dl-inline>dt:not(:first-of-type) {padding-left: .5ex}\n",
       "</style><dl class=dl-inline><dt>2.5%</dt><dd>-0.111181434599156</dd><dt>97.5%</dt><dd>0.922090490155006</dd></dl>\n"
      ],
      "text/latex": [
       "\\begin{description*}\n",
       "\\item[2.5\\textbackslash{}\\%] -0.111181434599156\n",
       "\\item[97.5\\textbackslash{}\\%] 0.922090490155006\n",
       "\\end{description*}\n"
      ],
      "text/markdown": [
       "2.5%\n",
       ":   -0.11118143459915697.5%\n",
       ":   0.922090490155006\n",
       "\n"
      ],
      "text/plain": [
       "      2.5%      97.5% \n",
       "-0.1111814  0.9220905 "
      ]
     },
     "metadata": {},
     "output_type": "display_data"
    },
    {
     "data": {
      "text/html": [
       "<style>\n",
       ".dl-inline {width: auto; margin:0; padding: 0}\n",
       ".dl-inline>dt, .dl-inline>dd {float: none; width: auto; display: inline-block}\n",
       ".dl-inline>dt::after {content: \":\\0020\"; padding-right: .5ex}\n",
       ".dl-inline>dt:not(:first-of-type) {padding-left: .5ex}\n",
       "</style><dl class=dl-inline><dt>2.5%</dt><dd>-0.0773809523809523</dd><dt>97.5%</dt><dd>0.800945945945945</dd></dl>\n"
      ],
      "text/latex": [
       "\\begin{description*}\n",
       "\\item[2.5\\textbackslash{}\\%] -0.0773809523809523\n",
       "\\item[97.5\\textbackslash{}\\%] 0.800945945945945\n",
       "\\end{description*}\n"
      ],
      "text/markdown": [
       "2.5%\n",
       ":   -0.077380952380952397.5%\n",
       ":   0.800945945945945\n",
       "\n"
      ],
      "text/plain": [
       "       2.5%       97.5% \n",
       "-0.07738095  0.80094595 "
      ]
     },
     "metadata": {},
     "output_type": "display_data"
    }
   ],
   "source": [
    "# e) Confidence intervals for Spearman and Kendall correlation\n",
    "spearman_boot <- vector(mode = \"numeric\", length = m)\n",
    "kendall_boot <- vector(mode = \"numeric\", length = m)\n",
    "\n",
    "for (i in 1:m) {\n",
    "  samp <- sample(seq_along(x), length(x), replace = TRUE)\n",
    "  spearman_boot[i] <- cor(x[samp], y[samp], method = \"spearman\")\n",
    "  kendall_boot[i] <- cor(x[samp], y[samp], method = \"kendall\")\n",
    "}\n",
    "\n",
    "quantile(spearman_boot, c(alpha / 2, 1 - alpha / 2))\n",
    "quantile(kendall_boot, c(alpha / 2, 1 - alpha / 2))\n"
   ]
  }
 ],
 "metadata": {
  "kernelspec": {
   "display_name": "R",
   "language": "R",
   "name": "ir"
  },
  "language_info": {
   "codemirror_mode": "r",
   "file_extension": ".r",
   "mimetype": "text/x-r-source",
   "name": "R",
   "pygments_lexer": "r",
   "version": "4.3.2"
  }
 },
 "nbformat": 4,
 "nbformat_minor": 2
}
